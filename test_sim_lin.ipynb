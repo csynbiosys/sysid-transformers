{
 "cells": [
  {
   "cell_type": "code",
   "execution_count": null,
   "id": "df653a7d",
   "metadata": {},
   "outputs": [],
   "source": [
    "from pathlib import Path\n",
    "import time\n",
    "import torch\n",
    "import numpy as np\n",
    "import math\n",
    "import pandas as pd\n",
    "from dataset import LinearDynamicalDatasetNb\n",
    "from torch.utils.data import DataLoader\n",
    "import matplotlib\n",
    "import matplotlib.pyplot as plt\n",
    "from transformer_sim import Config, TSTransformer\n",
    "import tqdm\n",
    "import argparse\n",
    "import metrics"
   ]
  },
  {
   "cell_type": "code",
   "execution_count": null,
   "id": "ad5dfba7",
   "metadata": {},
   "outputs": [],
   "source": [
    "fig_path = Path(\"fig\")\n",
    "fig_path.mkdir(exist_ok=True)"
   ]
  },
  {
   "cell_type": "code",
   "execution_count": null,
   "id": "413b20c5",
   "metadata": {},
   "outputs": [],
   "source": [
    "seed = 42\n",
    "torch.manual_seed(seed)\n",
    "np.random.seed(seed)"
   ]
  },
  {
   "cell_type": "code",
   "execution_count": null,
   "id": "6a235fd7",
   "metadata": {},
   "outputs": [],
   "source": [
    "# Overall settings\n",
    "out_dir = \"out\"\n",
    "\n",
    "# System settings\n",
    "nu = 1\n",
    "ny = 1\n",
    "#seq_len = 600\n",
    "batch_size = 256\n",
    "\n",
    "# Compute settings\n",
    "cuda_device = \"cuda:0\"\n",
    "no_cuda = False\n",
    "threads = 5\n",
    "compile = True\n",
    "\n",
    "# Configure compute\n",
    "torch.set_num_threads(threads) \n",
    "use_cuda = not no_cuda and torch.cuda.is_available()\n",
    "device_name  = cuda_device if use_cuda else \"cpu\"\n",
    "device = torch.device(device_name)\n",
    "device_type = 'cuda' if 'cuda' in device_name else 'cpu' # for later use in torch.autocast\n",
    "torch.set_float32_matmul_precision(\"high\")"
   ]
  },
  {
   "cell_type": "code",
   "execution_count": null,
   "id": "69ad2d3e",
   "metadata": {},
   "outputs": [],
   "source": [
    "# Create out dir\n",
    "out_dir = Path(out_dir)\n",
    "exp_data = torch.load(out_dir/\"ckpt_lin_sim_fix.pt\", map_location=\"cpu\")\n",
    "cfg = exp_data[\"cfg\"]"
   ]
  },
  {
   "cell_type": "code",
   "execution_count": null,
   "id": "0c029f10",
   "metadata": {},
   "outputs": [],
   "source": [
    "seq_len = cfg.seq_len_ctx + cfg.seq_len_new\n",
    "nx = cfg.nx"
   ]
  },
  {
   "cell_type": "code",
   "execution_count": null,
   "id": "34332c1a",
   "metadata": {},
   "outputs": [],
   "source": [
    "model_args = exp_data[\"model_args\"]\n",
    "conf = Config(**model_args)\n",
    "model = TSTransformer(conf).to(device)\n",
    "model.load_state_dict(exp_data[\"model\"]);"
   ]
  },
  {
   "cell_type": "code",
   "execution_count": null,
   "id": "25e08b76",
   "metadata": {},
   "outputs": [],
   "source": [
    "#mdlargs = {\"strictly_proper\":True, \"mag_range\": (0.2, 0.99), \"phase_range\": (0, math.pi*3/4)} # distribution shift!\n",
    "mdlargs = {\"strictly_proper\":True, \"mag_range\": (0.5, 0.97), \"phase_range\": (0, math.pi/2)}\n",
    "test_ds = LinearDynamicalDatasetNb(nx=cfg.nx, nu=cfg.nu, ny=cfg.ny, seq_len=cfg.seq_len_ctx+cfg.seq_len_new, system_seed=seed, **mdlargs)\n",
    "test_dl = DataLoader(test_ds, batch_size=batch_size, num_workers=0)"
   ]
  },
  {
   "cell_type": "code",
   "execution_count": null,
   "id": "8f80625a",
   "metadata": {},
   "outputs": [],
   "source": [
    "batch_y, batch_u = next(iter(test_dl))\n",
    "batch_y = batch_y.to(device)\n",
    "batch_u = batch_u.to(device)\n",
    "noise_std = 0.0\n",
    "with torch.no_grad():\n",
    "    batch_y_ctx = batch_y[:, :cfg.seq_len_ctx, :]\n",
    "    batch_u_ctx = batch_u[:, :cfg.seq_len_ctx, :]\n",
    "    batch_y_new = batch_y[:, cfg.seq_len_ctx:, :]\n",
    "    batch_y_ctx = batch_y_ctx + torch.randn(batch_y_ctx.shape).to(device)*noise_std\n",
    "    batch_u_new = batch_u[:, cfg.seq_len_ctx:, :]\n",
    "    batch_y_sim = model(batch_y_ctx, batch_u_ctx, batch_u_new)"
   ]
  },
  {
   "cell_type": "code",
   "execution_count": null,
   "id": "f6eef187",
   "metadata": {},
   "outputs": [],
   "source": [
    "batch_y_sim = batch_y_sim.to(\"cpu\").detach().numpy()\n",
    "batch_y_new = batch_y_new.to(\"cpu\").detach().numpy()\n",
    "batch_u_new = batch_u_new.to(\"cpu\").detach().numpy()\n",
    "batch_sim_err = batch_y_new[:, :, :] - batch_y_sim[:, :, :]"
   ]
  },
  {
   "cell_type": "code",
   "execution_count": null,
   "id": "8185fddd",
   "metadata": {},
   "outputs": [],
   "source": [
    "t = np.arange(1, batch_u_new.shape[1]+1) + cfg.seq_len_ctx"
   ]
  },
  {
   "cell_type": "code",
   "execution_count": null,
   "id": "dbe4be88",
   "metadata": {},
   "outputs": [],
   "source": [
    "plt.figure(figsize=(5, 2.5))\n",
    "idx = 10\n",
    "plt.plot(t, batch_y_new[idx, :, :], 'k', label=\"$y$\")\n",
    "plt.plot(t, batch_y_sim[idx, :, :], 'b', label=\"$\\hat y$\")\n",
    "plt.plot(t, batch_sim_err[idx, :, :], 'r', label=\"$y - \\hat y$\")\n",
    "plt.grid(True)\n",
    "plt.xlabel(\"time step (-)\")\n",
    "plt.legend(bbox_to_anchor=(1.05, 1), loc=2, borderaxespad=0.)\n",
    "plt.tight_layout()\n",
    "plt.savefig(fig_path / \"lin_sim_single.pdf\")"
   ]
  },
  {
   "cell_type": "code",
   "execution_count": null,
   "id": "f2aab2c2",
   "metadata": {},
   "outputs": [],
   "source": [
    "plt.figure(figsize=(5, 2.5))\n",
    "#plt.ylim([-3, 3])\n",
    "plt.plot(t, batch_y_new.squeeze(-1).T, \"k\", alpha=0.5);\n",
    "plt.plot(t, np.nan*np.zeros(t.shape), \"k\", alpha=1.0, label=\"$y$\")\n",
    "plt.plot(t, batch_sim_err.squeeze(-1).T, \"r\", alpha=0.2);\n",
    "plt.plot(t, np.nan*np.zeros(t.shape), \"r\", alpha=1.0, label=\"$y - \\hat y$\");\n",
    "plt.grid(True)\n",
    "plt.xlabel(\"time step (-)\")\n",
    "plt.legend(bbox_to_anchor=(1.05, 1), loc=2, borderaxespad=0.)\n",
    "plt.tight_layout()\n",
    "plt.savefig(fig_path / \"lin_sim_batch.pdf\")\n",
    "#plt.plot(batch_pred_err.squeeze(-1).T, \"m\", alpha=0.5);"
   ]
  },
  {
   "cell_type": "code",
   "execution_count": null,
   "id": "302c239f",
   "metadata": {},
   "outputs": [],
   "source": [
    "matplotlib.rc('font', **{'family': 'sans-serif', 'sans-serif': ['Helvetica'], 'size': 14})\n",
    "matplotlib.rc('text', usetex=True)\n",
    "matplotlib.rc('axes', grid=True)\n",
    "\n",
    "fix, ax = plt.subplots(1,2, sharex=True, sharey=False, figsize=(7, 2.2))\n",
    "ax[0].plot(t, batch_y_new.squeeze(-1).T, \"k\", alpha=0.5);\n",
    "ax[0].plot(t, np.nan*np.zeros(t.shape), \"k\", alpha=1.0, label=\"$y$\")\n",
    "ax[0].plot(t, batch_sim_err.squeeze(-1).T, \"r\", alpha=0.2);\n",
    "ax[0].plot(t, np.nan*np.zeros(t.shape), \"r\", alpha=1.0, label=\"$y-\\hat y$\")\n",
    "ax[0].set_xlabel(\"time step (-)\");\n",
    "\n",
    "ax[1].plot(t, batch_y_new[idx, :, :], 'k', label=\"$y$\")\n",
    "ax[1].plot(t, batch_y_sim[idx, :, :], 'b', label=\"$\\hat y$\")\n",
    "ax[1].plot(t, batch_sim_err[idx, :, :], 'r', label=\"$y - \\hat y$\")\n",
    "ax[1].set_xlabel(\"time step (-)\")\n",
    "ax[1].legend(bbox_to_anchor=(1.05, 1), loc=2, borderaxespad=0.)\n",
    "plt.tight_layout()\n",
    "plt.savefig(fig_path / \"lin_sim_batch_single.pdf\")\n",
    "plt.savefig(fig_path / \"lin_sim_batch_single.png\")"
   ]
  },
  {
   "cell_type": "code",
   "execution_count": null,
   "id": "6380a26e",
   "metadata": {},
   "outputs": [],
   "source": [
    "skip = 0\n",
    "rmse = metrics.rmse(batch_y_new, batch_y_sim, time_axis=1)"
   ]
  },
  {
   "cell_type": "code",
   "execution_count": null,
   "id": "a4cb9728",
   "metadata": {},
   "outputs": [],
   "source": [
    "n_param = sum(map(torch.numel, model.parameters()))\n",
    "print(f'parameter count: {n_param}')\n",
    "print(f'iterations: {exp_data[\"cfg\"].max_iters}')\n",
    "print(f'train_time: {exp_data[\"train_time\"]/3600/24} days')\n",
    "print(f'rmse: {rmse.mean()}')\n"
   ]
  },
  {
   "cell_type": "markdown",
   "id": "d0269f58-bbf0-49c3-abbe-702249725405",
   "metadata": {},
   "source": [
    "* 0.0 noise: 0.013199420645833015 rmse\n",
    "* 0.1 noise: 0.04964955151081085 rmse\n",
    "* 0.2 noise: 0.10013680160045624 rmse\n",
    "* 0.3 noise: 0.1483592391014099 rmse\n",
    "* 0.4 noise: 0.19760610163211823 rmse\n",
    "* 0.5 noise: 0.24959613382816315 rmse\n",
    "* 0.0 noise, poles distribution shift: 0.06638180464506149 rmse"
   ]
  },
  {
   "cell_type": "code",
   "execution_count": null,
   "id": "3ffe4c7a-d8f7-4eb1-932c-b42cda59bd3e",
   "metadata": {},
   "outputs": [],
   "source": [
    "import scipy.io as sio\n",
    "\n",
    "sio.savemat(\"lin_data.mat\", {\"batch_u\": batch_u.to(\"cpu\").numpy(), \"batch_y\": batch_y.to(\"cpu\").numpy()})\n"
   ]
  }
 ],
 "metadata": {
  "kernelspec": {
   "display_name": "Python 3 (ipykernel)",
   "language": "python",
   "name": "python3"
  },
  "language_info": {
   "codemirror_mode": {
    "name": "ipython",
    "version": 3
   },
   "file_extension": ".py",
   "mimetype": "text/x-python",
   "name": "python",
   "nbconvert_exporter": "python",
   "pygments_lexer": "ipython3",
   "version": "3.11.0"
  }
 },
 "nbformat": 4,
 "nbformat_minor": 5
}
