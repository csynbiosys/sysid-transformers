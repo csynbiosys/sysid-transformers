{
 "cells": [
  {
   "cell_type": "code",
   "execution_count": null,
   "metadata": {},
   "outputs": [],
   "source": [
    "import matplotlib as mpl\n",
    "import matplotlib.pyplot as plt\n",
    "from plot_util import set_size, tex_fonts, LINEWIDTH_L_CSS as linewidth\n",
    "import numpy as np\n",
    "import wandb"
   ]
  },
  {
   "cell_type": "code",
   "execution_count": null,
   "metadata": {},
   "outputs": [],
   "source": [
    "mpl.style.use('default')\n",
    "plt.rcParams.update(tex_fonts) # use latex fonts\n",
    "plt.rcParams.update({\"axes.grid\": True}) "
   ]
  },
  {
   "cell_type": "code",
   "execution_count": null,
   "metadata": {},
   "outputs": [],
   "source": [
    "api = wandb.Api()"
   ]
  },
  {
   "cell_type": "code",
   "execution_count": null,
   "metadata": {},
   "outputs": [],
   "source": [
    "runs = api.runs(\"forgi86/sysid-meta\", filters={\"display_name\": \"train_shift_A\"})\n",
    "run = runs[0]\n",
    "history = run.scan_history()\n",
    "loss_A = np.array([row[\"loss\"] for row in history]).astype(\"float\")\n",
    "loss_A_C = np.array([row[\"loss_val\"] for row in history]).astype(\"float\")\n",
    "\n",
    "runs = api.runs(\"forgi86/sysid-meta\", filters={\"display_name\": \"train_shift_B\"})\n",
    "run = runs[0]\n",
    "history = run.scan_history()\n",
    "loss_B = np.array([row[\"loss\"] for row in history]).astype(\"float\")\n",
    "loss_B_C = np.array([row[\"loss_val\"] for row in history]).astype(\"float\")\n",
    "\n",
    "\n",
    "runs = api.runs(\"forgi86/sysid-meta\", filters={\"display_name\": \"train_shift_AB\"})\n",
    "run = runs[0]\n",
    "history = run.scan_history()\n",
    "loss_AB = np.array([row[\"loss\"] for row in history]).astype(\"float\")\n",
    "loss_AB_C = np.array([row[\"loss_val\"] for row in history]).astype(\"float\")"
   ]
  },
  {
   "cell_type": "code",
   "execution_count": null,
   "metadata": {},
   "outputs": [],
   "source": [
    "fig, ax = plt.subplots(1, 1, figsize=set_size(linewidth, fraction=1.0))\n",
    "ax.plot(np.arange(len(loss_A))*100, loss_A, label=\"$a$ (train distribution)\")\n",
    "ax.plot(np.arange(len(loss_A_C))*100, loss_A_C, label=\"c (test distribution)\")\n",
    "ax.set_xlabel(\"Iterations\")\n",
    "ax.set_ylabel(\"MSE loss\")\n",
    "ax.legend(loc=\"upper right\")\n",
    "plt.tight_layout()\n",
    "plt.savefig(\"loss_shift_A.pdf\")"
   ]
  },
  {
   "cell_type": "code",
   "execution_count": null,
   "metadata": {},
   "outputs": [],
   "source": [
    "fig, ax = plt.subplots(1, 1, figsize=set_size(linewidth, fraction=1.0))\n",
    "ax.plot(np.arange(len(loss_B))*100, loss_B, label=\"$b$ (train distribution)\")\n",
    "ax.plot(np.arange(len(loss_B_C))*100, loss_B_C, label=\"c (test distribution)\")\n",
    "ax.set_xlabel(\"Iterations\")\n",
    "ax.set_ylabel(\"MSE loss\")\n",
    "ax.legend(loc=\"upper right\")\n",
    "plt.tight_layout()\n",
    "plt.savefig(\"loss_shift_B.pdf\")"
   ]
  },
  {
   "cell_type": "code",
   "execution_count": null,
   "metadata": {},
   "outputs": [],
   "source": [
    "fig, ax = plt.subplots(1, 1, figsize=set_size(linewidth, fraction=1.0))\n",
    "ax.plot(np.arange(len(loss_AB))*100, loss_AB, label=\"a+b (train distribution)\")\n",
    "ax.plot(np.arange(len(loss_AB_C))*100, loss_AB_C, label=\"c (test distribution)\")\n",
    "ax.set_xlabel(\"Iterations\")\n",
    "ax.set_ylabel(\"MSE loss\")\n",
    "ax.legend(loc=\"upper right\")\n",
    "plt.tight_layout()\n",
    "plt.savefig(\"loss_shift_AB.pdf\")"
   ]
  },
  {
   "cell_type": "code",
   "execution_count": null,
   "metadata": {},
   "outputs": [],
   "source": [
    "fig, ax = plt.subplots(1, 1, figsize=set_size(linewidth, fraction=1.0))\n",
    "ax.plot(np.arange(len(loss_AB))*100, loss_AB, label=\"a+b (train distribution)\")\n",
    "ax.plot(np.arange(len(loss_AB_C))*100, loss_AB_C, label=\"c (test distribution)\")\n",
    "ax.set_xlabel(\"Iterations\")\n",
    "ax.set_ylabel(\"MSE loss\")\n",
    "ax.legend(loc=\"upper right\")\n",
    "ax.set_ylim([0, 0.05])\n",
    "plt.tight_layout()\n",
    "plt.savefig(\"loss_shift_AB_zoom.pdf\")"
   ]
  }
 ],
 "metadata": {
  "kernelspec": {
   "display_name": "dev",
   "language": "python",
   "name": "python3"
  },
  "language_info": {
   "codemirror_mode": {
    "name": "ipython",
    "version": 3
   },
   "file_extension": ".py",
   "mimetype": "text/x-python",
   "name": "python",
   "nbconvert_exporter": "python",
   "pygments_lexer": "ipython3",
   "version": "3.1.0"
  }
 },
 "nbformat": 4,
 "nbformat_minor": 2
}
