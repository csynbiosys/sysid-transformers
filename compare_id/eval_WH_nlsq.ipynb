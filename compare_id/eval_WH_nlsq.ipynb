{
 "cells": [
  {
   "cell_type": "code",
   "execution_count": null,
   "id": "df653a7d",
   "metadata": {
    "ExecuteTime": {
     "end_time": "2023-08-31T08:52:59.704026Z",
     "start_time": "2023-08-31T08:52:59.702945Z"
    }
   },
   "outputs": [],
   "source": [
    "import torch\n",
    "import numpy as np\n",
    "from torchid import metrics\n",
    "import scipy.io as sio\n",
    "import matplotlib.pyplot as plt"
   ]
  },
  {
   "cell_type": "code",
   "execution_count": null,
   "id": "b6068c18",
   "metadata": {},
   "outputs": [],
   "source": [
    "noise_std = 0."
   ]
  },
  {
   "cell_type": "code",
   "execution_count": null,
   "id": "bcb8f916",
   "metadata": {},
   "outputs": [],
   "source": [
    "# Configure compute\n",
    "torch.set_num_threads(10)\n",
    "out_file = f\"batch_y_sim_full_rep_{noise_std:.1f}.pt\""
   ]
  },
  {
   "cell_type": "code",
   "execution_count": null,
   "id": "15e6522e",
   "metadata": {
    "ExecuteTime": {
     "end_time": "2023-08-31T08:53:00.102517Z",
     "start_time": "2023-08-31T08:53:00.098040Z"
    }
   },
   "outputs": [],
   "source": [
    "seq_len_ctx = 400\n",
    "seq_len_new = 100\n",
    "batch_size = 32\n",
    "seq_len = seq_len_ctx + seq_len_new\n",
    "\n",
    "wh_data = sio.loadmat(\"wh_data.mat\")\n",
    "batch_u = torch.tensor(wh_data[\"batch_u\"][:batch_size])\n",
    "batch_y = torch.tensor(wh_data[\"batch_y\"][:batch_size])\n",
    "batch_y_ctx = batch_y[:, :seq_len_ctx, :]\n",
    "batch_u_ctx = batch_u[:, :seq_len_ctx, :]\n",
    "batch_y_new = batch_y[:, seq_len_ctx:, :]\n",
    "batch_u_new = batch_u[:, seq_len_ctx:, :]\n",
    "batch_size = batch_u.shape[0]"
   ]
  },
  {
   "cell_type": "code",
   "execution_count": null,
   "id": "14a080b0",
   "metadata": {
    "ExecuteTime": {
     "end_time": "2023-08-31T08:53:33.336156Z",
     "start_time": "2023-08-31T08:53:33.310310Z"
    }
   },
   "outputs": [],
   "source": [
    "batch_y_sim_full_rep = torch.load(out_file)\n",
    "\n",
    "err_rep = batch_y_sim_full_rep - batch_y # error for all training repetitions R, B, T, C\n",
    "err_rep_train = err_rep[:, :seq_len_ctx, :, :] # training error for all repetitions R, B, T, C\n",
    "loss_rep = torch.mean(err_rep_train**2, dim=(2, 3)) # loss for all repetitions R, B, L\n",
    "idx_best = torch.argmin(torch.nan_to_num(loss_rep, torch.inf),  dim=0) # idx of best training repetition per batch B\n",
    "batch_y_sim_full_best = batch_y_sim_full_rep[idx_best, torch.arange(batch_size)] # best training repetition full sequence B, T, C"
   ]
  },
  {
   "cell_type": "code",
   "execution_count": null,
   "id": "d7e7ebc6",
   "metadata": {
    "ExecuteTime": {
     "end_time": "2023-08-31T08:53:33.336478Z",
     "start_time": "2023-08-31T08:53:33.317603Z"
    }
   },
   "outputs": [],
   "source": [
    "#batch_y_sim_new = batch_y_sim_full_rep[0, :, cfg.seq_len_ctx:, :] # best training repetition test sequence B, T, C\n",
    "batch_y_sim_new = batch_y_sim_full_best[:, seq_len_ctx:, :] # best training repetition test sequence B, T, C"
   ]
  },
  {
   "cell_type": "code",
   "execution_count": null,
   "id": "b213e94c",
   "metadata": {
    "ExecuteTime": {
     "end_time": "2023-08-31T08:53:33.603321Z",
     "start_time": "2023-08-31T08:53:33.382567Z"
    }
   },
   "outputs": [],
   "source": [
    "batch_idx = 2\n",
    "rep_idx = 0\n",
    "\n",
    "plt.plot(batch_y[batch_idx], 'k', label=\"y\") # identification data\n",
    "#plt.plot(batch_y_sim_full_rep[:, batch_idx, :, :].squeeze(-1).T, 'b')#, label=\"yall\") # all models\n",
    "#plt.plot(batch_y_sim_full_rep[rep_idx, batch_idx], 'r') # one model\n",
    "plt.plot(batch_y_sim_full_best[batch_idx], 'm', label=\"ybest\") # best model\n",
    "#plt.plot(batch_y[batch_idx], 'k') # repetition of data\n",
    "plt.legend()\n",
    "plt.grid()\n",
    "plt.axvline(seq_len_ctx, color='red')"
   ]
  },
  {
   "cell_type": "code",
   "execution_count": null,
   "id": "b4b4868d",
   "metadata": {
    "ExecuteTime": {
     "end_time": "2023-08-31T08:53:33.727486Z",
     "start_time": "2023-08-31T08:53:33.540414Z"
    }
   },
   "outputs": [],
   "source": [
    "batch_sim_err = batch_y_new - batch_y_sim_new\n",
    "t = np.arange(1, batch_u_new.shape[1]+1) + seq_len_ctx\n",
    "plt.figure(figsize=(5, 2.5))\n",
    "#plt.ylim([-3, 3])\n",
    "plt.plot(t, np.array(batch_y_new.squeeze(-1).T), \"k\", alpha=0.5);\n",
    "plt.plot(t, np.nan*np.zeros(t.shape), \"k\", alpha=1.0, label=\"$y$\")\n",
    "plt.plot(t, np.array(batch_sim_err.squeeze(-1).T), \"r\", alpha=0.2);\n",
    "plt.plot(t, np.nan*np.zeros(t.shape), \"r\", alpha=1.0, label=\"$y - \\hat y$\");\n",
    "plt.grid(True)\n",
    "plt.xlabel(\"time step (-)\")\n",
    "plt.legend(bbox_to_anchor=(1.05, 1), loc=2, borderaxespad=0.)\n",
    "plt.tight_layout()\n",
    "#plt.savefig(fig_path / \"wh_sim_batch_ml.pdf\")"
   ]
  },
  {
   "cell_type": "code",
   "execution_count": null,
   "id": "01f821bd",
   "metadata": {
    "ExecuteTime": {
     "end_time": "2023-08-31T08:53:33.727645Z",
     "start_time": "2023-08-31T08:53:33.723218Z"
    }
   },
   "outputs": [],
   "source": [
    "##%%\n",
    "skip = 0\n",
    "rmse_ml = metrics.rmse(batch_y_new.numpy(), batch_y_sim_new.numpy(), time_axis=1)"
   ]
  },
  {
   "cell_type": "code",
   "execution_count": null,
   "id": "b2b8bd16",
   "metadata": {
    "ExecuteTime": {
     "end_time": "2023-08-31T08:53:33.728299Z",
     "start_time": "2023-08-31T08:53:33.725600Z"
    }
   },
   "outputs": [],
   "source": [
    "np.isnan(rmse_ml).sum()"
   ]
  },
  {
   "cell_type": "code",
   "execution_count": null,
   "id": "f248dbbe",
   "metadata": {
    "ExecuteTime": {
     "end_time": "2023-08-31T08:53:33.729684Z",
     "start_time": "2023-08-31T08:53:33.728392Z"
    }
   },
   "outputs": [],
   "source": [
    "rmse_ml = np.nan_to_num(rmse_ml, copy=True, nan=np.nanmean(rmse_ml))"
   ]
  },
  {
   "cell_type": "code",
   "execution_count": null,
   "id": "071ff7e8",
   "metadata": {
    "ExecuteTime": {
     "end_time": "2023-08-31T08:53:33.832641Z",
     "start_time": "2023-08-31T08:53:33.735998Z"
    }
   },
   "outputs": [],
   "source": [
    "plt.hist(rmse_ml);"
   ]
  },
  {
   "cell_type": "code",
   "execution_count": null,
   "id": "8239e6d7",
   "metadata": {
    "ExecuteTime": {
     "end_time": "2023-08-31T08:53:33.833644Z",
     "start_time": "2023-08-31T08:53:33.781952Z"
    }
   },
   "outputs": [],
   "source": [
    "print(f'rmse: {rmse_ml.mean()}')"
   ]
  },
  {
   "cell_type": "code",
   "execution_count": null,
   "id": "be6f9bbe",
   "metadata": {
    "ExecuteTime": {
     "end_time": "2023-08-31T08:53:33.833785Z",
     "start_time": "2023-08-31T08:53:33.784236Z"
    }
   },
   "outputs": [],
   "source": [
    "#rmse_ml[rmse_ml < 0.05]"
   ]
  }
 ],
 "metadata": {
  "kernelspec": {
   "display_name": "Python 3 (ipykernel)",
   "language": "python",
   "name": "python3"
  },
  "language_info": {
   "codemirror_mode": {
    "name": "ipython",
    "version": 3
   },
   "file_extension": ".py",
   "mimetype": "text/x-python",
   "name": "python",
   "nbconvert_exporter": "python",
   "pygments_lexer": "ipython3",
   "version": "3.11.5"
  }
 },
 "nbformat": 4,
 "nbformat_minor": 5
}
